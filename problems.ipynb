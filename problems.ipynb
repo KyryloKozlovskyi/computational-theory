{
 "cells": [
  {
   "cell_type": "markdown",
   "id": "f445c1df",
   "metadata": {},
   "source": [
    "# Computational Theory Assessment"
   ]
  },
  {
   "cell_type": "markdown",
   "id": "8df20db1",
   "metadata": {},
   "source": [
    "## Problem 1: Binary Words and Operations"
   ]
  },
  {
   "cell_type": "code",
   "execution_count": 114,
   "id": "d9ff133a",
   "metadata": {},
   "outputs": [],
   "source": [
    "import numpy as np\n",
    "\n",
    "def Parity(x, y, z):\n",
    "    \"\"\"\n",
    "    SHA-1 Parity function: x ^ y ^ z.\n",
    "    \n",
    "    Computes the bitwise XOR of three 32-bit words.\n",
    "    This function is used in SHA-1 and returns 1 for each bit position\n",
    "    where an odd number of the corresponding bits in x, y, z are 1.\n",
    "    \n",
    "    Args:\n",
    "        x: 32-bit unsigned integer\n",
    "        y: 32-bit unsigned integer\n",
    "        z: 32-bit unsigned integer\n",
    "    \n",
    "    Returns:\n",
    "        32-bit unsigned integer result of x XOR y XOR z\n",
    "    \"\"\"\n",
    "    x = np.uint32(x)\n",
    "    y = np.uint32(y)\n",
    "    z = np.uint32(z)\n",
    "\n",
    "    result = x ^ y ^ z\n",
    "\n",
    "    return np.uint32(result)"
   ]
  },
  {
   "cell_type": "code",
   "execution_count": 115,
   "id": "885de917",
   "metadata": {},
   "outputs": [
    {
     "name": "stdout",
     "output_type": "stream",
     "text": [
      "All Parity tests passed\n"
     ]
    }
   ],
   "source": [
    "def test_parity():\n",
    "    \"\"\"Test the Parity function with various inputs.\"\"\"\n",
    "    \n",
    "    # Test 1: Identity - all zeros\n",
    "    assert Parity(0x00000000, 0x00000000, 0x00000000) == 0x00000000, \\\n",
    "        \"All zeros should return 0\"\n",
    "    \n",
    "    # Test 2: Single bit set\n",
    "    assert Parity(0x00000001, 0x00000000, 0x00000000) == 0x00000001, \\\n",
    "        \"Single 1 bit should return 1\"\n",
    "    \n",
    "    # Test 3 All ones\n",
    "    assert Parity(0xFFFFFFFF, 0xFFFFFFFF, 0xFFFFFFFF) == 0xFFFFFFFF, \\\n",
    "        \"All ones should return all ones\"\n",
    "    \n",
    "    # Test 4: Mixed bits test\n",
    "    assert Parity(0x00000005, 0x00000003, 0x00000001) == 0x00000007, \\\n",
    "        \"Mixed bits: 0101 XOR 0011 XOR 0001 = 0111\"\n",
    "    \n",
    "    # Test 5: 4-bit test\n",
    "    assert Parity(0b1010, 0b1100, 0b0011) == 0b0101, \\\n",
    "        \"Binary: 1010 XOR 1100 XOR 0011 = 0101\"\n",
    "    print(\"All Parity tests passed\")\n",
    "\n",
    "# Run the tests\n",
    "test_parity()"
   ]
  },
  {
   "cell_type": "code",
   "execution_count": 116,
   "id": "73980cd8",
   "metadata": {},
   "outputs": [],
   "source": [
    "def Ch(x, y, z):\n",
    "    \"\"\"\n",
    "    SHA-1 Ch (Choose) function: (x & y) ^ (~x & z).\n",
    "    \n",
    "    The Ch function \"chooses\" between y and z based on the bits of x:\n",
    "    - If a bit in x is 1, the corresponding bit from y is chosen\n",
    "    - If a bit in x is 0, the corresponding bit from z is chosen\n",
    "    \n",
    "    Args:\n",
    "        x: 32-bit unsigned integer (selector)\n",
    "        y: 32-bit unsigned integer (chosen when x bit is 1)\n",
    "        z: 32-bit unsigned integer (chosen when x bit is 0)\n",
    "    \n",
    "    Returns:\n",
    "        32-bit unsigned integer result of (x & y) ^ (~x & z)\n",
    "    \"\"\"\n",
    "    x = np.uint32(x)\n",
    "    y = np.uint32(y)\n",
    "    z = np.uint32(z)\n",
    "    \n",
    "    # (x AND y) XOR (NOT x AND z)\n",
    "    result = (x & y) ^ (~x & z)\n",
    "    \n",
    "    return np.uint32(result)"
   ]
  },
  {
   "cell_type": "code",
   "execution_count": 117,
   "id": "6e1caf68",
   "metadata": {},
   "outputs": [
    {
     "name": "stdout",
     "output_type": "stream",
     "text": [
      "All Ch tests passed\n"
     ]
    }
   ],
   "source": [
    "def test_ch():\n",
    "    \"\"\"Test the Ch function with various inputs.\"\"\"\n",
    "    \n",
    "    # Test 1: All ones in x (choose all from y)\n",
    "    assert Ch(0xFFFFFFFF, 0x12345678, 0xABCDEF00) == 0x12345678, \\\n",
    "        \"When x is all 1s, result should equal y\"\n",
    "    \n",
    "    # Test 2: All zeros in x (choose all from z)\n",
    "    assert Ch(0x00000000, 0x12345678, 0xABCDEF00) == 0xABCDEF00, \\\n",
    "        \"When x is all 0s, result should equal z\"\n",
    "    \n",
    "    # Test 3: Alternating pattern\n",
    "    assert Ch(0xAAAAAAAA, 0xFFFFFFFF, 0x00000000) == 0xAAAAAAAA, \\\n",
    "        \"With alternating x bits, should select alternating bits from y and z\"\n",
    "    \n",
    "    # Test 4: 4-bit test\n",
    "    assert Ch(0b1100, 0b1010, 0b0101) == 0b1001, \\\n",
    "        \"Binary: Ch(1100, 1010, 0101) should equal 1001\"\n",
    "    \n",
    "    # Test 5: Actual hash values\n",
    "    expected5 = np.uint32((0x67452301 & 0xEFCDAB89) ^ (~np.uint32(0x67452301) & 0x98BADCFE))\n",
    "    assert Ch(0x67452301, 0xEFCDAB89, 0x98BADCFE) == expected5, \\\n",
    "        \"Calculation with SHA-1 constants should match direct implementation\"\n",
    "    \n",
    "    print(\"All Ch tests passed\")\n",
    "\n",
    "# Run the tests\n",
    "test_ch()"
   ]
  },
  {
   "cell_type": "code",
   "execution_count": 118,
   "id": "c15d5293",
   "metadata": {},
   "outputs": [],
   "source": [
    "def Maj(x, y, z):\n",
    "    \"\"\"\n",
    "    SHA-1 Maj (Majority) function: (x & y) ^ (x & z) ^ (y & z).\n",
    "    \n",
    "    The Maj function returns the majority vote for each bit position:\n",
    "    - Returns 1 if at least 2 of the 3 corresponding bits are 1\n",
    "    - Returns 0 if at least 2 of the 3 corresponding bits are 0\n",
    "    \n",
    "    Args:\n",
    "        x: 32-bit unsigned integer\n",
    "        y: 32-bit unsigned integer\n",
    "        z: 32-bit unsigned integer\n",
    "    \n",
    "    Returns:\n",
    "        32-bit unsigned integer result of (x & y) ^ (x & z) ^ (y & z)\n",
    "    \"\"\"\n",
    "    x = np.uint32(x)\n",
    "    y = np.uint32(y)\n",
    "    z = np.uint32(z)\n",
    "    \n",
    "    # (x AND y) XOR (x AND z) XOR (y AND z)\n",
    "    result = (x & y) ^ (x & z) ^ (y & z)\n",
    "    \n",
    "    return np.uint32(result)"
   ]
  },
  {
   "cell_type": "code",
   "execution_count": 119,
   "id": "bd602a0f",
   "metadata": {},
   "outputs": [
    {
     "name": "stdout",
     "output_type": "stream",
     "text": [
      "All Maj tests passed\n"
     ]
    }
   ],
   "source": [
    "def test_Maj():\n",
    "    \"\"\"Test the Maj function with various inputs.\"\"\"\n",
    "    \n",
    "    # Test 1: All zeros\n",
    "    assert Maj(0x00000000, 0x00000000, 0x00000000) == 0x00000000, \\\n",
    "        \"All zeros should return 0\"\n",
    "    \n",
    "    # Test 2: All ones\n",
    "    assert Maj(0xFFFFFFFF, 0xFFFFFFFF, 0xFFFFFFFF) == 0xFFFFFFFF, \\\n",
    "        \"All ones should return all ones\"\n",
    "    \n",
    "    # Test 3: Two ones, one zero (majority = 1)\n",
    "    assert Maj(0xFFFFFFFF, 0xFFFFFFFF, 0x00000000) == 0xFFFFFFFF, \\\n",
    "        \"Two 1s, one 0 should return 1 for each bit\"\n",
    "    \n",
    "    # Test 4: Two zeros, one one (majority = 0)\n",
    "    assert Maj(0x00000000, 0x00000000, 0xFFFFFFFF) == 0x00000000, \\\n",
    "        \"Two 0s, one 1 should return 0 for each bit\"\n",
    "    \n",
    "    # Test 5: 4-bit test with mixed pattern\n",
    "    assert Maj(0b1100, 0b1010, 0b1001) == 0b1000, \\\n",
    "        \"Binary: Maj(1100, 1010, 1001) should equal 1000\"\n",
    "\n",
    "    print(\"All Maj tests passed\")\n",
    "\n",
    "# Run the tests\n",
    "test_Maj()"
   ]
  },
  {
   "cell_type": "code",
   "execution_count": 120,
   "id": "36246ab5",
   "metadata": {},
   "outputs": [],
   "source": [
    "def Sigma0(x):\n",
    "    \"\"\"\n",
    "    SHA-256 Sigma0 (Σ₀²⁵⁶) function: ROTR²(x) ^ ROTR¹³(x) ^ ROTR²²(x)\n",
    "    \n",
    "    This function performs three right rotations on a 32-bit word and XORs them.\n",
    "    \n",
    "    ROTR^n(x) = circular right rotation of x by n positions\n",
    "    \n",
    "    Args:\n",
    "        x: 32-bit unsigned integer\n",
    "    \n",
    "    Returns:\n",
    "        32-bit unsigned integer result of ROTR²(x) ^ ROTR¹³(x) ^ ROTR²²(x)\n",
    "    \"\"\"\n",
    "    x = np.uint32(x)\n",
    "    \n",
    "    # Right rotate by 2, 13, and 22 bits\n",
    "    rotr2 = np.uint32((x >> 2) | (x << 30))   # ROTR²(x)\n",
    "    rotr13 = np.uint32((x >> 13) | (x << 19)) # ROTR¹³(x)\n",
    "    rotr22 = np.uint32((x >> 22) | (x << 10)) # ROTR²²(x)\n",
    "    \n",
    "    # XOR all three rotations\n",
    "    result = rotr2 ^ rotr13 ^ rotr22\n",
    "    \n",
    "    return np.uint32(result)"
   ]
  },
  {
   "cell_type": "code",
   "execution_count": 121,
   "id": "2e1b6c4b",
   "metadata": {},
   "outputs": [
    {
     "name": "stdout",
     "output_type": "stream",
     "text": [
      "All Sigma0 tests passed\n"
     ]
    }
   ],
   "source": [
    "def test_Sigma0():\n",
    "    \"\"\"Test the Sigma0 function with various inputs.\"\"\"\n",
    "    \n",
    "    # Test 1: All zeros\n",
    "    assert Sigma0(0x00000000) == 0x00000000, \\\n",
    "        \"All zeros should return 0\"\n",
    "    \n",
    "    # Test 2: All ones\n",
    "    assert Sigma0(0xFFFFFFFF) == 0xFFFFFFFF, \\\n",
    "        \"All ones should return all ones\"\n",
    "    \n",
    "    # Test 3: Single bit set\n",
    "    x = 0x00000001\n",
    "    rotr2 = np.uint32((x >> 2) | (x << 30))   # 0x40000000\n",
    "    rotr13 = np.uint32((x >> 13) | (x << 19)) # 0x00020000\n",
    "    rotr22 = np.uint32((x >> 22) | (x << 10)) # 0x00000400\n",
    "    expected = rotr2 ^ rotr13 ^ rotr22        # 0x40020400\n",
    "    assert Sigma0(0x00000001) == expected, \\\n",
    "        f\"Single bit rotation failed, expected 0x{expected:08x}\"\n",
    "    \n",
    "    # Test 4: Alternating bit pattern\n",
    "    assert Sigma0(0xAAAAAAAA) != 0xAAAAAAAA, \\\n",
    "        \"Rotation of alternating pattern should change the pattern\"\n",
    "    \n",
    "    print(\"All Sigma0 tests passed\")\n",
    "\n",
    "# Run the tests\n",
    "test_Sigma0()"
   ]
  },
  {
   "cell_type": "code",
   "execution_count": 122,
   "id": "b5cde143",
   "metadata": {},
   "outputs": [],
   "source": [
    "def Sigma1(x):\n",
    "    \"\"\"\n",
    "    SHA-256 Sigma1 (Σ₁²⁵⁶) function: ROTR⁶(x) ^ ROTR¹¹(x) ^ ROTR²⁵(x)\n",
    "    \n",
    "    This function performs three right rotations on a 32-bit word and XORs them.\n",
    "    \n",
    "    ROTR^n(x) = circular right rotation of x by n positions\n",
    "    \n",
    "    Args:\n",
    "        x: 32-bit unsigned integer\n",
    "    \n",
    "    Returns:\n",
    "        32-bit unsigned integer result of ROTR⁶(x) ^ ROTR¹¹(x) ^ ROTR²⁵(x)\n",
    "    \"\"\"\n",
    "    x = np.uint32(x)\n",
    "    \n",
    "    # Right rotate by 6, 11, and 25 bits\n",
    "    rotr6 = np.uint32((x >> 6) | (x << 26))   # ROTR⁶(x)\n",
    "    rotr11 = np.uint32((x >> 11) | (x << 21)) # ROTR¹¹(x)\n",
    "    rotr25 = np.uint32((x >> 25) | (x << 7))  # ROTR²⁵(x)\n",
    "    \n",
    "    # XOR all three rotations\n",
    "    result = rotr6 ^ rotr11 ^ rotr25\n",
    "    \n",
    "    return np.uint32(result)"
   ]
  },
  {
   "cell_type": "code",
   "execution_count": 123,
   "id": "9893d016",
   "metadata": {},
   "outputs": [
    {
     "name": "stdout",
     "output_type": "stream",
     "text": [
      "All Sigma1 tests passed\n"
     ]
    }
   ],
   "source": [
    "def test_Sigma1():\n",
    "    \"\"\"Test the Sigma1 function with various inputs.\"\"\"\n",
    "    \n",
    "    # Test 1: All zeros\n",
    "    assert Sigma1(0x00000000) == 0x00000000, \\\n",
    "        \"All zeros should return 0\"\n",
    "    \n",
    "    # Test 2: All ones\n",
    "    assert Sigma1(0xFFFFFFFF) == 0xFFFFFFFF, \\\n",
    "        \"All ones should return all ones\"\n",
    "    \n",
    "    # Test 3: Single bit set\n",
    "    x = 0x00000001\n",
    "    rotr6 = np.uint32((x >> 6) | (x << 26))   # 0x04000000\n",
    "    rotr11 = np.uint32((x >> 11) | (x << 21)) # 0x00200000\n",
    "    rotr25 = np.uint32((x >> 25) | (x << 7))  # 0x00000080\n",
    "    expected = rotr6 ^ rotr11 ^ rotr25        # 0x04200080\n",
    "    assert Sigma1(0x00000001) == expected, \\\n",
    "        f\"Single bit rotation failed, expected 0x{expected:08x}\"\n",
    "    \n",
    "    print(\"All Sigma1 tests passed\")\n",
    "\n",
    "# Run the tests\n",
    "test_Sigma1()"
   ]
  },
  {
   "cell_type": "code",
   "execution_count": 124,
   "id": "22140f06",
   "metadata": {},
   "outputs": [],
   "source": [
    "def sigma0(x):\n",
    "    \"\"\"\n",
    "    SHA-256 sigma0 (σ₀²⁵⁶) function: ROTR⁷(x) ^ ROTR¹⁸(x) ^ SHR³(x)\n",
    "    \n",
    "    This function performs two right rotations and one right shift on a 32-bit word and XORs them.\n",
    "    Used in the message schedule of SHA-256.\n",
    "    \n",
    "    ROTR^n(x) = circular right rotation of x by n positions\n",
    "    SHR^n(x) = right shift of x by n positions (no wrap around)\n",
    "    \n",
    "    Args:\n",
    "        x: 32-bit unsigned integer\n",
    "    \n",
    "    Returns:\n",
    "        32-bit unsigned integer result of ROTR⁷(x) ^ ROTR¹⁸(x) ^ SHR³(x)\n",
    "    \"\"\"\n",
    "    x = np.uint32(x)\n",
    "    \n",
    "    # Right rotate by 7 and 18 bits\n",
    "    rotr7 = np.uint32((x >> 7) | (x << 25))   # ROTR⁷(x)\n",
    "    rotr18 = np.uint32((x >> 18) | (x << 14)) # ROTR¹⁸(x)\n",
    "    \n",
    "    # Right shift by 3 bits (no wrap around)\n",
    "    shr3 = np.uint32(x >> 3)                  # SHR³(x)\n",
    "    \n",
    "    # XOR all three operations\n",
    "    result = rotr7 ^ rotr18 ^ shr3\n",
    "    \n",
    "    return np.uint32(result)"
   ]
  },
  {
   "cell_type": "code",
   "execution_count": 125,
   "id": "dd1d629c",
   "metadata": {},
   "outputs": [
    {
     "name": "stdout",
     "output_type": "stream",
     "text": [
      "All Sigma0 tests passed\n"
     ]
    }
   ],
   "source": [
    "def test_Sigma0():\n",
    "    \"\"\"Test the SHA-256 Sigma0 function with various inputs.\"\"\"\n",
    "    \n",
    "    # Test 1: All zeros\n",
    "    assert Sigma0(0x00000000) == 0x00000000, \\\n",
    "        \"All zeros should return 0\"\n",
    "    \n",
    "    # Test 2: All ones\n",
    "    assert Sigma0(0xFFFFFFFF) == 0xFFFFFFFF, \\\n",
    "        \"All ones should return all ones\"\n",
    "    \n",
    "    # Test 3: Single bit test\n",
    "    x = 0x00000001\n",
    "    rotr2 = np.uint32((x >> 2) | (x << 30))   # 0x40000000\n",
    "    rotr13 = np.uint32((x >> 13) | (x << 19)) # 0x00080000\n",
    "    rotr22 = np.uint32((x >> 22) | (x << 10)) # 0x00000400\n",
    "    expected = rotr2 ^ rotr13 ^ rotr22        # 0x40080400\n",
    "    assert Sigma0(0x00000001) == expected, \\\n",
    "        f\"Single bit rotation failed, expected 0x{expected:08x}\"\n",
    "    \n",
    "    print(\"All Sigma0 tests passed\")\n",
    "\n",
    "# Run the tests\n",
    "test_Sigma0()"
   ]
  },
  {
   "cell_type": "code",
   "execution_count": 126,
   "id": "a78fb9b7",
   "metadata": {},
   "outputs": [],
   "source": [
    "def sigma1(x):\n",
    "    \"\"\"\n",
    "    SHA-256 sigma1 (σ₁²⁵⁶) function: ROTR¹⁷(x) ^ ROTR¹⁹(x) ^ SHR¹⁰(x)\n",
    "    \n",
    "    This function performs two right rotations and one right shift on a 32-bit word and XORs them.\n",
    "    Used in the message schedule of SHA-256 (extending the message).\n",
    "    \n",
    "    ROTR^n(x) = circular right rotation of x by n positions\n",
    "    SHR^n(x) = right shift of x by n positions (no wrap around, fills with zeros)\n",
    "    \n",
    "    Reference: FIPS 180-4, Section 4.1.2 (SHA-256 Functions)\n",
    "    \n",
    "    Args:\n",
    "        x: 32-bit unsigned integer\n",
    "    \n",
    "    Returns:\n",
    "        32-bit unsigned integer result of ROTR¹⁷(x) ^ ROTR¹⁹(x) ^ SHR¹⁰(x)\n",
    "    \"\"\"\n",
    "    x = np.uint32(x)\n",
    "    \n",
    "    # Right rotate by 17 and 19 bits\n",
    "    rotr17 = np.uint32((x >> 17) | (x << 15))  # ROTR¹⁷(x)\n",
    "    rotr19 = np.uint32((x >> 19) | (x << 13))  # ROTR¹⁹(x)\n",
    "    \n",
    "    # Right shift by 10 bits (no wrap around)\n",
    "    shr10 = np.uint32(x >> 10)                 # SHR¹⁰(x)\n",
    "    \n",
    "    # XOR all three operations\n",
    "    result = rotr17 ^ rotr19 ^ shr10\n",
    "    \n",
    "    return np.uint32(result)"
   ]
  },
  {
   "cell_type": "code",
   "execution_count": null,
   "id": "e9a2185f",
   "metadata": {},
   "outputs": [
    {
     "name": "stdout",
     "output_type": "stream",
     "text": [
      "✓ All Sigma1 tests passed\n"
     ]
    }
   ],
   "source": [
    "def test_Sigma1():\n",
    "    \"\"\"Test the SHA-256 Sigma1 function with various inputs.\"\"\"\n",
    "    \n",
    "    # Test 1: All zeros\n",
    "    assert Sigma1(0x00000000) == 0x00000000, \\\n",
    "        \"All zeros should return 0\"\n",
    "    \n",
    "    # Test 2: All ones\n",
    "    assert Sigma1(0xFFFFFFFF) == 0xFFFFFFFF, \\\n",
    "        \"All ones should return all ones\"\n",
    "    \n",
    "    # Test 3: Single bit set\n",
    "    x = 0x00000001\n",
    "    rotr6 = np.uint32((x >> 6) | (x << 26))   # 0x04000000\n",
    "    rotr11 = np.uint32((x >> 11) | (x << 21)) # 0x00200000\n",
    "    rotr25 = np.uint32((x >> 25) | (x << 7))  # 0x00000080\n",
    "    expected = rotr6 ^ rotr11 ^ rotr25        # 0x04200080\n",
    "    assert Sigma1(0x00000001) == expected, \\\n",
    "        f\"Single bit rotation failed, expected 0x{expected:08x}\"\n",
    "\n",
    "    print(\"All Sigma1 tests passed\")\n",
    "\n",
    "# Run the tests\n",
    "test_Sigma1()"
   ]
  },
  {
   "cell_type": "markdown",
   "id": "e6df9b52",
   "metadata": {},
   "source": [
    "## Problem 2: Fractional Parts of Cube Roots\n"
   ]
  },
  {
   "cell_type": "markdown",
   "id": "66573e99",
   "metadata": {},
   "source": [
    "## Problem 3: Padding"
   ]
  },
  {
   "cell_type": "markdown",
   "id": "35b1291e",
   "metadata": {},
   "source": [
    "## Problem 4: Hashes"
   ]
  },
  {
   "cell_type": "markdown",
   "id": "52e3afc7",
   "metadata": {},
   "source": [
    "## Problem 5: Passwords"
   ]
  },
  {
   "cell_type": "markdown",
   "id": "86e204d0",
   "metadata": {},
   "source": [
    "# End"
   ]
  }
 ],
 "metadata": {
  "kernelspec": {
   "display_name": "Python 3",
   "language": "python",
   "name": "python3"
  },
  "language_info": {
   "codemirror_mode": {
    "name": "ipython",
    "version": 3
   },
   "file_extension": ".py",
   "mimetype": "text/x-python",
   "name": "python",
   "nbconvert_exporter": "python",
   "pygments_lexer": "ipython3",
   "version": "3.12.1"
  }
 },
 "nbformat": 4,
 "nbformat_minor": 5
}
