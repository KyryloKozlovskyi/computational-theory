{
 "cells": [
  {
   "cell_type": "markdown",
   "id": "f445c1df",
   "metadata": {},
   "source": [
    "Computational Theory Assessment"
   ]
  },
  {
   "cell_type": "code",
   "execution_count": null,
   "id": "49f0b964",
   "metadata": {},
   "outputs": [],
   "source": []
  },
  {
   "cell_type": "markdown",
   "id": "8df20db1",
   "metadata": {},
   "source": [
    "Problem 1"
   ]
  },
  {
   "cell_type": "markdown",
   "id": "e6df9b52",
   "metadata": {},
   "source": [
    "Problem 2"
   ]
  },
  {
   "cell_type": "markdown",
   "id": "66573e99",
   "metadata": {},
   "source": [
    "Problem 3"
   ]
  },
  {
   "cell_type": "markdown",
   "id": "35b1291e",
   "metadata": {},
   "source": [
    "Problem 4"
   ]
  },
  {
   "cell_type": "markdown",
   "id": "52e3afc7",
   "metadata": {},
   "source": [
    "Problem 5"
   ]
  }
 ],
 "metadata": {
  "language_info": {
   "name": "python"
  }
 },
 "nbformat": 4,
 "nbformat_minor": 5
}
